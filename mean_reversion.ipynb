{
 "cells": [
  {
   "cell_type": "markdown",
   "id": "69773a46",
   "metadata": {},
   "source": [
    "### Mean Reversion Strategy"
   ]
  },
  {
   "cell_type": "code",
   "execution_count": null,
   "id": "be3a27db",
   "metadata": {},
   "outputs": [
    {
     "ename": "ImportError",
     "evalue": "cannot import name 'generate_atr' from 'backtesting' (c:\\Users\\Matthew S\\Documents\\GitHub\\mean-reversion-trading-bot\\backtesting.py)",
     "output_type": "error",
     "traceback": [
      "\u001b[31m---------------------------------------------------------------------------\u001b[39m",
      "\u001b[31mImportError\u001b[39m                               Traceback (most recent call last)",
      "\u001b[36mCell\u001b[39m\u001b[36m \u001b[39m\u001b[32mIn[21]\u001b[39m\u001b[32m, line 6\u001b[39m\n\u001b[32m      4\u001b[39m \u001b[38;5;28;01mimport\u001b[39;00m\u001b[38;5;250m \u001b[39m\u001b[34;01myfinance\u001b[39;00m\u001b[38;5;250m \u001b[39m\u001b[38;5;28;01mas\u001b[39;00m\u001b[38;5;250m \u001b[39m\u001b[34;01myf\u001b[39;00m\n\u001b[32m      5\u001b[39m \u001b[38;5;28;01mfrom\u001b[39;00m\u001b[38;5;250m \u001b[39m\u001b[34;01mbacktesting\u001b[39;00m\u001b[38;5;250m \u001b[39m\u001b[38;5;28;01mimport\u001b[39;00m backtest_strategy\n\u001b[32m----> \u001b[39m\u001b[32m6\u001b[39m \u001b[38;5;28;01mfrom\u001b[39;00m\u001b[38;5;250m \u001b[39m\u001b[34;01mbacktesting\u001b[39;00m\u001b[38;5;250m \u001b[39m\u001b[38;5;28;01mimport\u001b[39;00m generate_atr\n",
      "\u001b[31mImportError\u001b[39m: cannot import name 'generate_atr' from 'backtesting' (c:\\Users\\Matthew S\\Documents\\GitHub\\mean-reversion-trading-bot\\backtesting.py)"
     ]
    }
   ],
   "source": [
    "import pandas as pd\n",
    "import numpy as np\n",
    "import matplotlib.pyplot as plt\n",
    "import yfinance as yf\n",
    "from backtesting import backtest_strategy\n",
    "from backtesting import generate_atr"
   ]
  },
  {
   "cell_type": "code",
   "execution_count": 7,
   "id": "be26ff3e",
   "metadata": {},
   "outputs": [],
   "source": [
    "def fetch_stock_data(ticker, startdate, enddate):\n",
    "    data = yf.download(ticker, start = startdate, end = enddate)\n",
    "    data = data.reset_index()\n",
    "    #rename columns\n",
    "    data = data.rename(columns= {'Date': 'date', \"Open\": \"open\", \"Close\": \"close\", \"High\": \"high\", \"Low\": \"low\", \"Volume\": \"volume\"})\n",
    "    return data"
   ]
  },
  {
   "cell_type": "code",
   "execution_count": 17,
   "id": "94301777",
   "metadata": {},
   "outputs": [],
   "source": [
    "def generate_signals(data):\n",
    "    bollinger_period = 20\n",
    "    data[\"sma_20\"] = data[\"close\"].rolling(bollinger_period).mean()\n",
    "    data[\"stdev_20\"] = data[\"close\"].rolling(bollinger_period).std()\n",
    "\n",
    "    #Bollinger bands\n",
    "    data[\"upper_bollinger\"] = data[\"sma_20\"] + 2 * data[\"stdev_20\"]\n",
    "    data[\"lower_bollinger\"] = data[\"sma_20\"] - 2 * data[\"stdev_20\"]\n",
    "\n",
    "    #RSI\n",
    "    rsi_period = 14\n",
    "    data[\"delta\"] = data[\"close\"].diff()\n",
    "    data[\"gain\"] = data[\"delta\"].clip(lower = 0)\n",
    "    data[\"loss\"] = data[\"delta\"].clip(upper = 0) * -1\n",
    "    data[\"avg_gain\"] = data[\"gain\"].ewm(span = rsi_period).mean()\n",
    "    data[\"avg_loss\"] = data[\"loss\"].ewm(span = rsi_period).mean()\n",
    "    data[\"rsi_index\"] = 100 - (100 / (1 + data[\"avg_gain\"] / data[\"avg_loss\"]))\n",
    "\n",
    "    #sanity check\n",
    "    print(data.head())\n",
    "    print(data.tail())\n",
    "    \n",
    "    #Signals\n",
    "    data[\"signal\"] = 0\n",
    "\n",
    "    long_condition = (data[\"rsi_index\"] < 30) & (data[\"close\"] < data[\"lower_bollinger\"])\n",
    "    short_condition = (data[\"rsi_index\"] > 70) & (data[\"close\"] > data[\"upper_bollinger\"])\n",
    " \n",
    "    data.loc[long_condition, \"signal\"] = 1\n",
    "    data.loc[short_condition, \"signal\"] = -1\n",
    "\n",
    "    data.loc[data[\"sma_20\"].isna(), \"signal\"] = 0 \n",
    "    data.loc[data[\"atr\"].isna(), \"signal\"] = 0\n",
    "    data.loc[data[\"rsi_index\"].isna(), \"signal\"] = 0\n",
    "\n",
    "    return data"
   ]
  },
  {
   "cell_type": "code",
   "execution_count": 16,
   "id": "c0203af4",
   "metadata": {},
   "outputs": [
    {
     "name": "stderr",
     "output_type": "stream",
     "text": [
      "C:\\Users\\Matthew S\\AppData\\Local\\Temp\\ipykernel_28772\\3810399447.py:2: FutureWarning: YF.download() has changed argument auto_adjust default to True\n",
      "  data = yf.download(ticker, start = startdate, end = enddate)\n",
      "[*********************100%***********************]  1 of 1 completed\n"
     ]
    },
    {
     "name": "stdout",
     "output_type": "stream",
     "text": [
      "Price        date       close        high         low        open   volume  \\\n",
      "Ticker                    UNH         UNH         UNH         UNH      UNH   \n",
      "0      2019-01-02  219.967056  222.550760  218.142199  221.331174  4063600   \n",
      "1      2019-01-03  213.968506  219.957988  213.318062  219.957988  4623200   \n",
      "2      2019-01-04  216.470917  219.939955  215.730142  216.633535  5367600   \n",
      "3      2019-01-07  216.886475  218.602915  215.215193  217.175553  4133000   \n",
      "4      2019-01-08  219.786423  221.141512  216.552289  218.919173  3618600   \n",
      "\n",
      "Price  sma_20 stdev_20 upper_bollinger lower_bollinger     delta      gain  \\\n",
      "Ticker                                                                       \n",
      "0         NaN      NaN             NaN             NaN       NaN       NaN   \n",
      "1         NaN      NaN             NaN             NaN -5.998550  0.000000   \n",
      "2         NaN      NaN             NaN             NaN  2.502411  2.502411   \n",
      "3         NaN      NaN             NaN             NaN  0.415558  0.415558   \n",
      "4         NaN      NaN             NaN             NaN  2.899948  2.899948   \n",
      "\n",
      "Price      loss  avg_gain  avg_loss  rsi_index        tr       atr  \n",
      "Ticker                                                              \n",
      "0           NaN       NaN       NaN        NaN  4.408560  4.408560  \n",
      "1       5.99855  0.000000  5.998550   0.000000  6.648994  5.608793  \n",
      "2      -0.00000  1.340577  2.785041  32.493970  5.971449  5.747328  \n",
      "3      -0.00000  0.987217  1.721146  36.450683  3.387722  5.025458  \n",
      "4      -0.00000  1.572375  1.194599  56.826524  4.589223  4.911645  \n",
      "Price        date       close        high         low        open   volume  \\\n",
      "Ticker                    UNH         UNH         UNH         UNH      UNH   \n",
      "751    2021-12-23  469.084503  471.707457  466.650916  468.724670  1706500   \n",
      "752    2021-12-27  472.985748  473.743271  470.277575  472.209268  1349400   \n",
      "753    2021-12-28  476.243164  478.496835  473.837983  475.353058  1495500   \n",
      "754    2021-12-29  478.743011  480.295972  475.353056  477.985488  1573900   \n",
      "755    2021-12-30  477.654114  482.199340  476.915518  480.968329  1309800   \n",
      "\n",
      "Price       sma_20   stdev_20 upper_bollinger lower_bollinger     delta  \\\n",
      "Ticker                                                                    \n",
      "751     445.346756  18.691737      482.730230      407.963282  1.183655   \n",
      "752     448.235806  18.247827      484.731460      411.740153  3.901245   \n",
      "753     450.717180  18.525259      487.767697      413.666663  3.257416   \n",
      "754     453.690700  17.977133      489.644966      417.736434  2.499847   \n",
      "755     456.604108  16.808581      490.221270      422.986945 -1.088898   \n",
      "\n",
      "Price       gain      loss  avg_gain  avg_loss  rsi_index        tr       atr  \n",
      "Ticker                                                                         \n",
      "751     1.183655 -0.000000  3.176522  1.063228  74.922389  5.056541  7.864400  \n",
      "752     3.901245 -0.000000  3.273152  0.921464  78.032214  4.658768  7.436983  \n",
      "753     3.257416 -0.000000  3.271054  0.798602  80.376661  5.511086  7.180196  \n",
      "754     2.499847 -0.000000  3.168226  0.692122  82.070994  4.942915  6.881892  \n",
      "755     0.000000  1.088898  2.745796  0.745025  78.657589  5.283822  6.668816  \n"
     ]
    },
    {
     "ename": "ValueError",
     "evalue": "Data must be 1-dimensional, got ndarray of shape (756, 756) instead",
     "output_type": "error",
     "traceback": [
      "\u001b[31m---------------------------------------------------------------------------\u001b[39m",
      "\u001b[31mValueError\u001b[39m                                Traceback (most recent call last)",
      "\u001b[36mCell\u001b[39m\u001b[36m \u001b[39m\u001b[32mIn[16]\u001b[39m\u001b[32m, line 10\u001b[39m\n\u001b[32m      8\u001b[39m ticker, start, end = test[\u001b[33m\"\u001b[39m\u001b[33mticker\u001b[39m\u001b[33m\"\u001b[39m], test[\u001b[33m\"\u001b[39m\u001b[33mstart\u001b[39m\u001b[33m\"\u001b[39m], test[\u001b[33m\"\u001b[39m\u001b[33mend\u001b[39m\u001b[33m\"\u001b[39m]\n\u001b[32m      9\u001b[39m data = fetch_stock_data(ticker, start, end)\n\u001b[32m---> \u001b[39m\u001b[32m10\u001b[39m data = \u001b[43mgenerate_signals\u001b[49m\u001b[43m(\u001b[49m\u001b[43mdata\u001b[49m\u001b[43m)\u001b[49m\n\u001b[32m     12\u001b[39m \u001b[38;5;66;03m#sanity check plot\u001b[39;00m\n\u001b[32m     13\u001b[39m plt.figure(figsize=(\u001b[32m12\u001b[39m,\u001b[32m5\u001b[39m))\n",
      "\u001b[36mCell\u001b[39m\u001b[36m \u001b[39m\u001b[32mIn[8]\u001b[39m\u001b[32m, line 48\u001b[39m, in \u001b[36mgenerate_signals\u001b[39m\u001b[34m(data)\u001b[39m\n\u001b[32m     45\u001b[39m long_mask = (data[\u001b[33m\"\u001b[39m\u001b[33mrsi_index\u001b[39m\u001b[33m\"\u001b[39m].to_numpy() < \u001b[32m30\u001b[39m) & (data[\u001b[33m\"\u001b[39m\u001b[33mclose\u001b[39m\u001b[33m\"\u001b[39m].to_numpy() < data[\u001b[33m\"\u001b[39m\u001b[33mlower_bollinger\u001b[39m\u001b[33m\"\u001b[39m].to_numpy())\n\u001b[32m     46\u001b[39m short_mask = (data[\u001b[33m\"\u001b[39m\u001b[33mrsi_index\u001b[39m\u001b[33m\"\u001b[39m].to_numpy() > \u001b[32m70\u001b[39m) & (data[\u001b[33m\"\u001b[39m\u001b[33mclose\u001b[39m\u001b[33m\"\u001b[39m].to_numpy() > data[\u001b[33m\"\u001b[39m\u001b[33mupper_bollinger\u001b[39m\u001b[33m\"\u001b[39m].to_numpy())\n\u001b[32m---> \u001b[39m\u001b[32m48\u001b[39m long_condition = \u001b[43mpd\u001b[49m\u001b[43m.\u001b[49m\u001b[43mSeries\u001b[49m\u001b[43m(\u001b[49m\u001b[43mlong_mask\u001b[49m\u001b[43m,\u001b[49m\u001b[43m \u001b[49m\u001b[43mindex\u001b[49m\u001b[43m=\u001b[49m\u001b[43mdata\u001b[49m\u001b[43m.\u001b[49m\u001b[43mindex\u001b[49m\u001b[43m)\u001b[49m\n\u001b[32m     49\u001b[39m short_condition = pd.Series(short_mask, index=data.index)\n\u001b[32m     51\u001b[39m data.loc[long_condition, \u001b[33m\"\u001b[39m\u001b[33msignal\u001b[39m\u001b[33m\"\u001b[39m] = \u001b[32m1\u001b[39m\n",
      "\u001b[36mFile \u001b[39m\u001b[32mc:\\Users\\Matthew S\\Documents\\GitHub\\mean-reversion-trading-bot\\.venv\\Lib\\site-packages\\pandas\\core\\series.py:584\u001b[39m, in \u001b[36mSeries.__init__\u001b[39m\u001b[34m(self, data, index, dtype, name, copy, fastpath)\u001b[39m\n\u001b[32m    582\u001b[39m         data = data.copy()\n\u001b[32m    583\u001b[39m \u001b[38;5;28;01melse\u001b[39;00m:\n\u001b[32m--> \u001b[39m\u001b[32m584\u001b[39m     data = \u001b[43msanitize_array\u001b[49m\u001b[43m(\u001b[49m\u001b[43mdata\u001b[49m\u001b[43m,\u001b[49m\u001b[43m \u001b[49m\u001b[43mindex\u001b[49m\u001b[43m,\u001b[49m\u001b[43m \u001b[49m\u001b[43mdtype\u001b[49m\u001b[43m,\u001b[49m\u001b[43m \u001b[49m\u001b[43mcopy\u001b[49m\u001b[43m)\u001b[49m\n\u001b[32m    586\u001b[39m     manager = _get_option(\u001b[33m\"\u001b[39m\u001b[33mmode.data_manager\u001b[39m\u001b[33m\"\u001b[39m, silent=\u001b[38;5;28;01mTrue\u001b[39;00m)\n\u001b[32m    587\u001b[39m     \u001b[38;5;28;01mif\u001b[39;00m manager == \u001b[33m\"\u001b[39m\u001b[33mblock\u001b[39m\u001b[33m\"\u001b[39m:\n",
      "\u001b[36mFile \u001b[39m\u001b[32mc:\\Users\\Matthew S\\Documents\\GitHub\\mean-reversion-trading-bot\\.venv\\Lib\\site-packages\\pandas\\core\\construction.py:656\u001b[39m, in \u001b[36msanitize_array\u001b[39m\u001b[34m(data, index, dtype, copy, allow_2d)\u001b[39m\n\u001b[32m    653\u001b[39m             subarr = cast(np.ndarray, subarr)\n\u001b[32m    654\u001b[39m             subarr = maybe_infer_to_datetimelike(subarr)\n\u001b[32m--> \u001b[39m\u001b[32m656\u001b[39m subarr = \u001b[43m_sanitize_ndim\u001b[49m\u001b[43m(\u001b[49m\u001b[43msubarr\u001b[49m\u001b[43m,\u001b[49m\u001b[43m \u001b[49m\u001b[43mdata\u001b[49m\u001b[43m,\u001b[49m\u001b[43m \u001b[49m\u001b[43mdtype\u001b[49m\u001b[43m,\u001b[49m\u001b[43m \u001b[49m\u001b[43mindex\u001b[49m\u001b[43m,\u001b[49m\u001b[43m \u001b[49m\u001b[43mallow_2d\u001b[49m\u001b[43m=\u001b[49m\u001b[43mallow_2d\u001b[49m\u001b[43m)\u001b[49m\n\u001b[32m    658\u001b[39m \u001b[38;5;28;01mif\u001b[39;00m \u001b[38;5;28misinstance\u001b[39m(subarr, np.ndarray):\n\u001b[32m    659\u001b[39m     \u001b[38;5;66;03m# at this point we should have dtype be None or subarr.dtype == dtype\u001b[39;00m\n\u001b[32m    660\u001b[39m     dtype = cast(np.dtype, dtype)\n",
      "\u001b[36mFile \u001b[39m\u001b[32mc:\\Users\\Matthew S\\Documents\\GitHub\\mean-reversion-trading-bot\\.venv\\Lib\\site-packages\\pandas\\core\\construction.py:715\u001b[39m, in \u001b[36m_sanitize_ndim\u001b[39m\u001b[34m(result, data, dtype, index, allow_2d)\u001b[39m\n\u001b[32m    713\u001b[39m     \u001b[38;5;28;01mif\u001b[39;00m allow_2d:\n\u001b[32m    714\u001b[39m         \u001b[38;5;28;01mreturn\u001b[39;00m result\n\u001b[32m--> \u001b[39m\u001b[32m715\u001b[39m     \u001b[38;5;28;01mraise\u001b[39;00m \u001b[38;5;167;01mValueError\u001b[39;00m(\n\u001b[32m    716\u001b[39m         \u001b[33mf\u001b[39m\u001b[33m\"\u001b[39m\u001b[33mData must be 1-dimensional, got ndarray of shape \u001b[39m\u001b[38;5;132;01m{\u001b[39;00mdata.shape\u001b[38;5;132;01m}\u001b[39;00m\u001b[33m instead\u001b[39m\u001b[33m\"\u001b[39m\n\u001b[32m    717\u001b[39m     )\n\u001b[32m    718\u001b[39m \u001b[38;5;28;01mif\u001b[39;00m is_object_dtype(dtype) \u001b[38;5;129;01mand\u001b[39;00m \u001b[38;5;28misinstance\u001b[39m(dtype, ExtensionDtype):\n\u001b[32m    719\u001b[39m     \u001b[38;5;66;03m# i.e. NumpyEADtype(\"O\")\u001b[39;00m\n\u001b[32m    721\u001b[39m     result = com.asarray_tuplesafe(data, dtype=np.dtype(\u001b[33m\"\u001b[39m\u001b[33mobject\u001b[39m\u001b[33m\"\u001b[39m))\n",
      "\u001b[31mValueError\u001b[39m: Data must be 1-dimensional, got ndarray of shape (756, 756) instead"
     ]
    }
   ],
   "source": [
    "tests = [\n",
    "    {\"ticker\": \"UNH\", \"start\": \"2019-01-01\", \"end\": \"2021-12-31\"},\n",
    "    {\"ticker\": \"TSLA\", \"start\": \"2020-01-01\", \"end\": \"2022-12-31\"},\n",
    "    {\"ticker\": \"SPY\", \"start\": \"2022-01-01\", \"end\": \"2023-12-31\"},\n",
    "]\n",
    "\n",
    "for test in tests:\n",
    "    ticker, start, end = test[\"ticker\"], test[\"start\"], test[\"end\"]\n",
    "    data = fetch_stock_data(ticker, start, end)\n",
    "    data = generate_signals(data)\n",
    "\n",
    "    #sanity check plot\n",
    "    plt.figure(figsize=(12,5))\n",
    "    plt.xticks(rotation=45)\n",
    "\n",
    "    plt.plot(data['date'], data['close'], label = 'Close')\n",
    "    plt.plot(data['date'], data['sma_20'], label = '20 Ma')\n",
    "    plt.fill_between(data['date'], data['upper_bollinger'], data['lower_bollinger'], label = 'Bollinger Bands', color='lightgrey')\n",
    "    plt.title(ticker, fontweight = 'bold')\n",
    "\n",
    "    plt.legend()        \n",
    "    plt.show()"
   ]
  },
  {
   "cell_type": "code",
   "execution_count": null,
   "id": "55c8535f",
   "metadata": {},
   "outputs": [],
   "source": []
  }
 ],
 "metadata": {
  "kernelspec": {
   "display_name": ".venv",
   "language": "python",
   "name": "python3"
  },
  "language_info": {
   "codemirror_mode": {
    "name": "ipython",
    "version": 3
   },
   "file_extension": ".py",
   "mimetype": "text/x-python",
   "name": "python",
   "nbconvert_exporter": "python",
   "pygments_lexer": "ipython3",
   "version": "3.11.9"
  }
 },
 "nbformat": 4,
 "nbformat_minor": 5
}
